{
 "cells": [
  {
   "cell_type": "markdown",
   "metadata": {},
   "source": [
    "# Mine Detection Computer Vision "
   ]
  },
  {
   "cell_type": "code",
   "execution_count": 10,
   "metadata": {},
   "outputs": [],
   "source": [
    "import os\n",
    "import shutil\n",
    "import math\n",
    "\n",
    "# Define source and destination directories\n",
    "source_dir = r'C:\\Users\\RMill\\OneDrive - Nexus365\\Documents\\Oxford\\Engineering Work\\Year 3\\B3 - 3YP\\Comp Vis\\data\\landmines_detection.v1i.yolov11\\test\\labels'\n",
    "destination_dir = r'C:\\Users\\RMill\\OneDrive - Nexus365\\Documents\\Oxford\\Engineering Work\\Year 3\\B3 - 3YP\\Comp Vis\\data\\landmines_detection.v1i.yolov11\\test_subset_100\\labels'\n",
    "\n",
    "# Create destination directory if it doesn't exist\n",
    "os.makedirs(destination_dir, exist_ok=True)\n",
    "\n",
    "# Get list of all files in the source directory\n",
    "all_files = os.listdir(source_dir)\n",
    "\n",
    "# Calculate the number of files to move (10% of total files)\n",
    "num_files_to_move = math.ceil(len(all_files) * 0.2)\n",
    "\n",
    "# Copy the first 20% of files to the destination directory\n",
    "for file_name in all_files[:num_files_to_move]:\n",
    "    shutil.copy(os.path.join(source_dir, file_name), os.path.join(destination_dir, file_name))"
   ]
  }
 ],
 "metadata": {
  "kernelspec": {
   "display_name": "3yp-venv",
   "language": "python",
   "name": "python3"
  },
  "language_info": {
   "codemirror_mode": {
    "name": "ipython",
    "version": 3
   },
   "file_extension": ".py",
   "mimetype": "text/x-python",
   "name": "python",
   "nbconvert_exporter": "python",
   "pygments_lexer": "ipython3",
   "version": "3.12.7"
  }
 },
 "nbformat": 4,
 "nbformat_minor": 2
}
